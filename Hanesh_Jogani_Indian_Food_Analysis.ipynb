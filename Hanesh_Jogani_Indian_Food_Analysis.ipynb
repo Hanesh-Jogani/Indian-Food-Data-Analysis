{
  "nbformat": 4,
  "nbformat_minor": 0,
  "metadata": {
    "colab": {
      "name": "Hanesh Jogani_Indian Food Analysis.ipynb",
      "provenance": [],
      "collapsed_sections": [],
      "toc_visible": true,
      "authorship_tag": "ABX9TyMdzEXvcOCzfPgTBHTP+YpO"
    },
    "kernelspec": {
      "name": "python3",
      "display_name": "Python 3"
    },
    "language_info": {
      "name": "python"
    }
  },
  "cells": [
    {
      "cell_type": "markdown",
      "metadata": {
        "id": "J6I9zl3IiQfh"
      },
      "source": [
        "# Indian Food Data Analysis\n",
        "\n",
        "> Tools\n",
        "*   Python [Pandas](https://pandas.pydata.org/) for working with DataFrames\n",
        "*   Data Visualization using [Matplotlib](https://matplotlib.org/) and [Seaborn](https://seaborn.pydata.org/index.html)\n",
        "\n",
        "> Dataset Source :- https://www.kaggle.com/nehaprabhavalkar/indian-food-101"
      ]
    },
    {
      "cell_type": "markdown",
      "metadata": {
        "id": "do3RyA-Qgh1K"
      },
      "source": [
        "### **Importing The Necessary Libraries**"
      ]
    },
    {
      "cell_type": "code",
      "metadata": {
        "id": "cz203S-uc6hU"
      },
      "source": [
        "import pandas as pd\n",
        "import numpy as np\n",
        "import matplotlib\n",
        "import matplotlib.pyplot as plt\n",
        "import seaborn as sns"
      ],
      "execution_count": 1,
      "outputs": []
    },
    {
      "cell_type": "markdown",
      "metadata": {
        "id": "3LrAwhgShN_c"
      },
      "source": [
        "### **Dataset Analysing**"
      ]
    },
    {
      "cell_type": "code",
      "metadata": {
        "colab": {
          "base_uri": "https://localhost:8080/",
          "height": 417
        },
        "id": "PElesS3Vf74T",
        "outputId": "4fe74d5f-ac84-475f-f541-088394c030e6"
      },
      "source": [
        "# Reading the dataset file\n",
        "data = pd.read_csv(\"/content/Data/indian_food.csv\")\n",
        "data"
      ],
      "execution_count": 2,
      "outputs": [
        {
          "output_type": "execute_result",
          "data": {
            "text/html": [
              "<div>\n",
              "<style scoped>\n",
              "    .dataframe tbody tr th:only-of-type {\n",
              "        vertical-align: middle;\n",
              "    }\n",
              "\n",
              "    .dataframe tbody tr th {\n",
              "        vertical-align: top;\n",
              "    }\n",
              "\n",
              "    .dataframe thead th {\n",
              "        text-align: right;\n",
              "    }\n",
              "</style>\n",
              "<table border=\"1\" class=\"dataframe\">\n",
              "  <thead>\n",
              "    <tr style=\"text-align: right;\">\n",
              "      <th></th>\n",
              "      <th>name</th>\n",
              "      <th>ingredients</th>\n",
              "      <th>diet</th>\n",
              "      <th>prep_time</th>\n",
              "      <th>cook_time</th>\n",
              "      <th>flavor_profile</th>\n",
              "      <th>course</th>\n",
              "      <th>state</th>\n",
              "      <th>region</th>\n",
              "    </tr>\n",
              "  </thead>\n",
              "  <tbody>\n",
              "    <tr>\n",
              "      <th>0</th>\n",
              "      <td>Balu shahi</td>\n",
              "      <td>Maida flour, yogurt, oil, sugar</td>\n",
              "      <td>vegetarian</td>\n",
              "      <td>45</td>\n",
              "      <td>25</td>\n",
              "      <td>sweet</td>\n",
              "      <td>dessert</td>\n",
              "      <td>West Bengal</td>\n",
              "      <td>East</td>\n",
              "    </tr>\n",
              "    <tr>\n",
              "      <th>1</th>\n",
              "      <td>Boondi</td>\n",
              "      <td>Gram flour, ghee, sugar</td>\n",
              "      <td>vegetarian</td>\n",
              "      <td>80</td>\n",
              "      <td>30</td>\n",
              "      <td>sweet</td>\n",
              "      <td>dessert</td>\n",
              "      <td>Rajasthan</td>\n",
              "      <td>West</td>\n",
              "    </tr>\n",
              "    <tr>\n",
              "      <th>2</th>\n",
              "      <td>Gajar ka halwa</td>\n",
              "      <td>Carrots, milk, sugar, ghee, cashews, raisins</td>\n",
              "      <td>vegetarian</td>\n",
              "      <td>15</td>\n",
              "      <td>60</td>\n",
              "      <td>sweet</td>\n",
              "      <td>dessert</td>\n",
              "      <td>Punjab</td>\n",
              "      <td>North</td>\n",
              "    </tr>\n",
              "    <tr>\n",
              "      <th>3</th>\n",
              "      <td>Ghevar</td>\n",
              "      <td>Flour, ghee, kewra, milk, clarified butter, su...</td>\n",
              "      <td>vegetarian</td>\n",
              "      <td>15</td>\n",
              "      <td>30</td>\n",
              "      <td>sweet</td>\n",
              "      <td>dessert</td>\n",
              "      <td>Rajasthan</td>\n",
              "      <td>West</td>\n",
              "    </tr>\n",
              "    <tr>\n",
              "      <th>4</th>\n",
              "      <td>Gulab jamun</td>\n",
              "      <td>Milk powder, plain flour, baking powder, ghee,...</td>\n",
              "      <td>vegetarian</td>\n",
              "      <td>15</td>\n",
              "      <td>40</td>\n",
              "      <td>sweet</td>\n",
              "      <td>dessert</td>\n",
              "      <td>West Bengal</td>\n",
              "      <td>East</td>\n",
              "    </tr>\n",
              "    <tr>\n",
              "      <th>...</th>\n",
              "      <td>...</td>\n",
              "      <td>...</td>\n",
              "      <td>...</td>\n",
              "      <td>...</td>\n",
              "      <td>...</td>\n",
              "      <td>...</td>\n",
              "      <td>...</td>\n",
              "      <td>...</td>\n",
              "      <td>...</td>\n",
              "    </tr>\n",
              "    <tr>\n",
              "      <th>250</th>\n",
              "      <td>Til Pitha</td>\n",
              "      <td>Glutinous rice, black sesame seeds, gur</td>\n",
              "      <td>vegetarian</td>\n",
              "      <td>5</td>\n",
              "      <td>30</td>\n",
              "      <td>sweet</td>\n",
              "      <td>dessert</td>\n",
              "      <td>Assam</td>\n",
              "      <td>North East</td>\n",
              "    </tr>\n",
              "    <tr>\n",
              "      <th>251</th>\n",
              "      <td>Bebinca</td>\n",
              "      <td>Coconut milk, egg yolks, clarified butter, all...</td>\n",
              "      <td>vegetarian</td>\n",
              "      <td>20</td>\n",
              "      <td>60</td>\n",
              "      <td>sweet</td>\n",
              "      <td>dessert</td>\n",
              "      <td>Goa</td>\n",
              "      <td>West</td>\n",
              "    </tr>\n",
              "    <tr>\n",
              "      <th>252</th>\n",
              "      <td>Shufta</td>\n",
              "      <td>Cottage cheese, dry dates, dried rose petals, ...</td>\n",
              "      <td>vegetarian</td>\n",
              "      <td>-1</td>\n",
              "      <td>-1</td>\n",
              "      <td>sweet</td>\n",
              "      <td>dessert</td>\n",
              "      <td>Jammu &amp; Kashmir</td>\n",
              "      <td>North</td>\n",
              "    </tr>\n",
              "    <tr>\n",
              "      <th>253</th>\n",
              "      <td>Mawa Bati</td>\n",
              "      <td>Milk powder, dry fruits, arrowroot powder, all...</td>\n",
              "      <td>vegetarian</td>\n",
              "      <td>20</td>\n",
              "      <td>45</td>\n",
              "      <td>sweet</td>\n",
              "      <td>dessert</td>\n",
              "      <td>Madhya Pradesh</td>\n",
              "      <td>Central</td>\n",
              "    </tr>\n",
              "    <tr>\n",
              "      <th>254</th>\n",
              "      <td>Pinaca</td>\n",
              "      <td>Brown rice, fennel seeds, grated coconut, blac...</td>\n",
              "      <td>vegetarian</td>\n",
              "      <td>-1</td>\n",
              "      <td>-1</td>\n",
              "      <td>sweet</td>\n",
              "      <td>dessert</td>\n",
              "      <td>Goa</td>\n",
              "      <td>West</td>\n",
              "    </tr>\n",
              "  </tbody>\n",
              "</table>\n",
              "<p>255 rows × 9 columns</p>\n",
              "</div>"
            ],
            "text/plain": [
              "               name  ...      region\n",
              "0        Balu shahi  ...        East\n",
              "1            Boondi  ...        West\n",
              "2    Gajar ka halwa  ...       North\n",
              "3            Ghevar  ...        West\n",
              "4       Gulab jamun  ...        East\n",
              "..              ...  ...         ...\n",
              "250       Til Pitha  ...  North East\n",
              "251         Bebinca  ...        West\n",
              "252          Shufta  ...       North\n",
              "253       Mawa Bati  ...     Central\n",
              "254          Pinaca  ...        West\n",
              "\n",
              "[255 rows x 9 columns]"
            ]
          },
          "metadata": {
            "tags": []
          },
          "execution_count": 2
        }
      ]
    },
    {
      "cell_type": "code",
      "metadata": {
        "colab": {
          "base_uri": "https://localhost:8080/"
        },
        "id": "wubhrVu2gSJr",
        "outputId": "331ac5ff-8186-4f03-dad5-6b2a9a673dbe"
      },
      "source": [
        "# Information about the dataframe\n",
        "data.info()"
      ],
      "execution_count": 3,
      "outputs": [
        {
          "output_type": "stream",
          "text": [
            "<class 'pandas.core.frame.DataFrame'>\n",
            "RangeIndex: 255 entries, 0 to 254\n",
            "Data columns (total 9 columns):\n",
            " #   Column          Non-Null Count  Dtype \n",
            "---  ------          --------------  ----- \n",
            " 0   name            255 non-null    object\n",
            " 1   ingredients     255 non-null    object\n",
            " 2   diet            255 non-null    object\n",
            " 3   prep_time       255 non-null    int64 \n",
            " 4   cook_time       255 non-null    int64 \n",
            " 5   flavor_profile  255 non-null    object\n",
            " 6   course          255 non-null    object\n",
            " 7   state           255 non-null    object\n",
            " 8   region          254 non-null    object\n",
            "dtypes: int64(2), object(7)\n",
            "memory usage: 18.1+ KB\n"
          ],
          "name": "stdout"
        }
      ]
    },
    {
      "cell_type": "code",
      "metadata": {
        "colab": {
          "base_uri": "https://localhost:8080/"
        },
        "id": "_zR2tL6rhIv3",
        "outputId": "5b10fdaa-ac49-4f47-9d4e-7488dc8645fa"
      },
      "source": [
        "data.columns"
      ],
      "execution_count": 4,
      "outputs": [
        {
          "output_type": "execute_result",
          "data": {
            "text/plain": [
              "Index(['name', 'ingredients', 'diet', 'prep_time', 'cook_time',\n",
              "       'flavor_profile', 'course', 'state', 'region'],\n",
              "      dtype='object')"
            ]
          },
          "metadata": {
            "tags": []
          },
          "execution_count": 4
        }
      ]
    },
    {
      "cell_type": "code",
      "metadata": {
        "colab": {
          "base_uri": "https://localhost:8080/"
        },
        "id": "KzOGpCE7vbWy",
        "outputId": "e24e4edf-30cf-4fe1-ee89-fb5886203b91"
      },
      "source": [
        "# Dimension of the dataframe\n",
        "data.shape"
      ],
      "execution_count": 5,
      "outputs": [
        {
          "output_type": "execute_result",
          "data": {
            "text/plain": [
              "(255, 9)"
            ]
          },
          "metadata": {
            "tags": []
          },
          "execution_count": 5
        }
      ]
    },
    {
      "cell_type": "code",
      "metadata": {
        "colab": {
          "base_uri": "https://localhost:8080/"
        },
        "id": "jhwH_iDNvdTT",
        "outputId": "1883d50f-4c58-4f89-840e-d2eaadfbfb31"
      },
      "source": [
        "# Size of the dataframe \n",
        "data.size"
      ],
      "execution_count": 6,
      "outputs": [
        {
          "output_type": "execute_result",
          "data": {
            "text/plain": [
              "2295"
            ]
          },
          "metadata": {
            "tags": []
          },
          "execution_count": 6
        }
      ]
    },
    {
      "cell_type": "code",
      "metadata": {
        "id": "20uKbF3Wy_ev"
      },
      "source": [
        "# Dropping out the NaN values\n",
        "new_data= data[data.prep_time !=-1]\n",
        "new_data= new_data[new_data.cook_time !=-1]\n",
        "new_data= new_data[new_data.flavor_profile !='-1']\n",
        "new_data= new_data[new_data.state !='-1']\n",
        "new_data= new_data[new_data.region !='-1']\n",
        "\n",
        "# We can also use\n",
        "#data=data.replace(-1,np.nan)\n",
        "#data=data.replace('-1',np.nan)"
      ],
      "execution_count": 7,
      "outputs": []
    },
    {
      "cell_type": "code",
      "metadata": {
        "colab": {
          "base_uri": "https://localhost:8080/",
          "height": 295
        },
        "id": "-x3zPgDA2wIk",
        "outputId": "50271135-c9f2-4258-d3f9-1a6cc386917d"
      },
      "source": [
        "new_data.describe()"
      ],
      "execution_count": 8,
      "outputs": [
        {
          "output_type": "execute_result",
          "data": {
            "text/html": [
              "<div>\n",
              "<style scoped>\n",
              "    .dataframe tbody tr th:only-of-type {\n",
              "        vertical-align: middle;\n",
              "    }\n",
              "\n",
              "    .dataframe tbody tr th {\n",
              "        vertical-align: top;\n",
              "    }\n",
              "\n",
              "    .dataframe thead th {\n",
              "        text-align: right;\n",
              "    }\n",
              "</style>\n",
              "<table border=\"1\" class=\"dataframe\">\n",
              "  <thead>\n",
              "    <tr style=\"text-align: right;\">\n",
              "      <th></th>\n",
              "      <th>prep_time</th>\n",
              "      <th>cook_time</th>\n",
              "    </tr>\n",
              "  </thead>\n",
              "  <tbody>\n",
              "    <tr>\n",
              "      <th>count</th>\n",
              "      <td>181.000000</td>\n",
              "      <td>181.000000</td>\n",
              "    </tr>\n",
              "    <tr>\n",
              "      <th>mean</th>\n",
              "      <td>30.591160</td>\n",
              "      <td>40.281768</td>\n",
              "    </tr>\n",
              "    <tr>\n",
              "      <th>std</th>\n",
              "      <td>63.998079</td>\n",
              "      <td>54.237985</td>\n",
              "    </tr>\n",
              "    <tr>\n",
              "      <th>min</th>\n",
              "      <td>5.000000</td>\n",
              "      <td>5.000000</td>\n",
              "    </tr>\n",
              "    <tr>\n",
              "      <th>25%</th>\n",
              "      <td>10.000000</td>\n",
              "      <td>25.000000</td>\n",
              "    </tr>\n",
              "    <tr>\n",
              "      <th>50%</th>\n",
              "      <td>10.000000</td>\n",
              "      <td>30.000000</td>\n",
              "    </tr>\n",
              "    <tr>\n",
              "      <th>75%</th>\n",
              "      <td>20.000000</td>\n",
              "      <td>45.000000</td>\n",
              "    </tr>\n",
              "    <tr>\n",
              "      <th>max</th>\n",
              "      <td>500.000000</td>\n",
              "      <td>720.000000</td>\n",
              "    </tr>\n",
              "  </tbody>\n",
              "</table>\n",
              "</div>"
            ],
            "text/plain": [
              "        prep_time   cook_time\n",
              "count  181.000000  181.000000\n",
              "mean    30.591160   40.281768\n",
              "std     63.998079   54.237985\n",
              "min      5.000000    5.000000\n",
              "25%     10.000000   25.000000\n",
              "50%     10.000000   30.000000\n",
              "75%     20.000000   45.000000\n",
              "max    500.000000  720.000000"
            ]
          },
          "metadata": {
            "tags": []
          },
          "execution_count": 8
        }
      ]
    },
    {
      "cell_type": "markdown",
      "metadata": {
        "id": "R_lMO4pShnAL"
      },
      "source": [
        "## **Analysis and Visualization**"
      ]
    },
    {
      "cell_type": "markdown",
      "metadata": {
        "id": "7EVOmCPoYtCv"
      },
      "source": [
        "### **CourseWise Distribution of Indian Dishes**"
      ]
    },
    {
      "cell_type": "code",
      "metadata": {
        "colab": {
          "base_uri": "https://localhost:8080/"
        },
        "id": "Zg41AZ1n3p-b",
        "outputId": "0fd659f8-79c9-4d76-dab2-fd4e58ee3f55"
      },
      "source": [
        "course = new_data.course.value_counts()\n",
        "course"
      ],
      "execution_count": 9,
      "outputs": [
        {
          "output_type": "execute_result",
          "data": {
            "text/plain": [
              "main course    83\n",
              "dessert        71\n",
              "snack          25\n",
              "starter         2\n",
              "Name: course, dtype: int64"
            ]
          },
          "metadata": {
            "tags": []
          },
          "execution_count": 9
        }
      ]
    },
    {
      "cell_type": "code",
      "metadata": {
        "colab": {
          "base_uri": "https://localhost:8080/",
          "height": 427
        },
        "id": "A5yeqV2L5TDQ",
        "outputId": "7806e1b9-9aae-4341-c960-3a30e39672e3"
      },
      "source": [
        "plt.figure(figsize=(10,7))\n",
        "plt.title('COURSEWISE DISTRIBUTION OF DISHES')\n",
        "plt.pie(course, autopct='%1.1f%%', startangle=90)\n",
        "plt.axis('equal')\n",
        "plt.legend(labels=course.index, loc=\"best\");"
      ],
      "execution_count": 10,
      "outputs": [
        {
          "output_type": "display_data",
          "data": {
            "image/png": "[encoded data removed]",
            "text/plain": [
              "<Figure size 720x504 with 1 Axes>"
            ]
          },
          "metadata": {
            "tags": []
          }
        }
      ]
    },
    {
      "cell_type": "markdown",
      "metadata": {
        "id": "kNGCKc0zghsX"
      },
      "source": [
        "Above Pie Chart shows the Coursewise Distribution of Indian dishes.\n",
        "\n",
        "*   **Most** :- **Main Course (45.9%)**.\n",
        "*   **Least** :- **Starter (1.1%)**."
      ]
    },
    {
      "cell_type": "markdown",
      "metadata": {
        "id": "d-TrKX34ZNHs"
      },
      "source": [
        "### **FlavourWise Distribution of Indian Dishes**"
      ]
    },
    {
      "cell_type": "code",
      "metadata": {
        "colab": {
          "base_uri": "https://localhost:8080/"
        },
        "id": "NyH_BfRXWfON",
        "outputId": "7c4857dd-3eda-45bd-c57d-105b7aa3eef9"
      },
      "source": [
        "flavour = new_data.flavor_profile.value_counts()\n",
        "flavour"
      ],
      "execution_count": 11,
      "outputs": [
        {
          "output_type": "execute_result",
          "data": {
            "text/plain": [
              "spicy     102\n",
              "sweet      74\n",
              "bitter      4\n",
              "sour        1\n",
              "Name: flavor_profile, dtype: int64"
            ]
          },
          "metadata": {
            "tags": []
          },
          "execution_count": 11
        }
      ]
    },
    {
      "cell_type": "code",
      "metadata": {
        "colab": {
          "base_uri": "https://localhost:8080/",
          "height": 427
        },
        "id": "h5pgiH1NWmcs",
        "outputId": "6ab73096-19ea-496f-b0be-2fd86f763dc1"
      },
      "source": [
        "plt.figure(figsize=(10,7))\n",
        "plt.title('FLAVOUREWISE DISTRIBUTION OF INDIAN DISHES')\n",
        "plt.pie(flavour, autopct='%1.1f%%', startangle=90)\n",
        "plt.axis('equal')\n",
        "plt.legend(labels=flavour.index, loc=\"best\");"
      ],
      "execution_count": 12,
      "outputs": [
        {
          "output_type": "display_data",
          "data": {
            "image/png": "[encoded data removed]",
            "text/plain": [
              "<Figure size 720x504 with 1 Axes>"
            ]
          },
          "metadata": {
            "tags": []
          }
        }
      ]
    },
    {
      "cell_type": "markdown",
      "metadata": {
        "id": "bfsm1rb3XbnL"
      },
      "source": [
        "Above Pie Chart shows the Flavorwise Distribution of Indian dishes.\n",
        "\n",
        "*   **Most Flavoured** :- **Spicy (56.4%)**.\n",
        "*   **Least Flavoured** :- **Sour (0.6%)**."
      ]
    },
    {
      "cell_type": "markdown",
      "metadata": {
        "id": "PttWgMyGjyzV"
      },
      "source": [
        "### **DietWise Distribution of Indian Dishes**"
      ]
    },
    {
      "cell_type": "code",
      "metadata": {
        "colab": {
          "base_uri": "https://localhost:8080/"
        },
        "id": "9UCppAdmj5oZ",
        "outputId": "48583d2d-e8f0-4b66-f71f-80dad5adef9a"
      },
      "source": [
        "diet = new_data.diet.value_counts()\n",
        "diet"
      ],
      "execution_count": 13,
      "outputs": [
        {
          "output_type": "execute_result",
          "data": {
            "text/plain": [
              "vegetarian        164\n",
              "non vegetarian     17\n",
              "Name: diet, dtype: int64"
            ]
          },
          "metadata": {
            "tags": []
          },
          "execution_count": 13
        }
      ]
    },
    {
      "cell_type": "code",
      "metadata": {
        "colab": {
          "base_uri": "https://localhost:8080/",
          "height": 427
        },
        "id": "KlkNlmE3kHRd",
        "outputId": "374fa8c8-a560-4f96-8526-00a21abe8c67"
      },
      "source": [
        "plt.figure(figsize=(10,7))\n",
        "plt.title('DIETWISE DISTRIBUTION OF INDIAN DISHES')\n",
        "plt.pie(diet, autopct='%1.1f%%', startangle=90)\n",
        "plt.axis('equal')\n",
        "plt.legend(labels=diet.index, loc=\"best\");"
      ],
      "execution_count": 14,
      "outputs": [
        {
          "output_type": "display_data",
          "data": {
            "image/png": "[encoded data removed]",
            "text/plain": [
              "<Figure size 720x504 with 1 Axes>"
            ]
          },
          "metadata": {
            "tags": []
          }
        }
      ]
    },
    {
      "cell_type": "markdown",
      "metadata": {
        "id": "ij72VotekqLU"
      },
      "source": [
        "Above Pie Chart shows the Dietwise Distribution of Indian dishes.\n",
        "\n",
        "*   **90.6%** of Indian Dishes are **Vegeterian**.\n",
        "*   **9.4%** of Indian Dishes are **Non-Vegeterian**."
      ]
    },
    {
      "cell_type": "markdown",
      "metadata": {
        "id": "fiz-FV5olFOs"
      },
      "source": [
        "### **StateWise Distribution of Indian Dishes**"
      ]
    },
    {
      "cell_type": "code",
      "metadata": {
        "colab": {
          "base_uri": "https://localhost:8080/",
          "height": 524
        },
        "id": "E8rsBC-AlIn6",
        "outputId": "5ab25e67-a80d-48ad-bb92-33f39a3ec862"
      },
      "source": [
        "plt.figure(figsize=(10,7))\n",
        "sns.countplot(x=new_data.state)\n",
        "plt.xticks(rotation=85);\n",
        "plt.title('STATEWISE NUMBER OF INDIAN DISHES')\n",
        "plt.xlabel(None);"
      ],
      "execution_count": 15,
      "outputs": [
        {
          "output_type": "display_data",
          "data": {
            "image/png": "[encoded data removed]",
            "text/plain": [
              "<Figure size 720x504 with 1 Axes>"
            ]
          },
          "metadata": {
            "tags": [],
            "needs_background": "light"
          }
        }
      ]
    },
    {
      "cell_type": "markdown",
      "metadata": {
        "id": "4G4iW0rLl8x_"
      },
      "source": [
        "Above Bar Graph shows the Statewise Distribution of Indian dishes.\n",
        "\n",
        "*   **Punjab** has the highest number of dishes followed by **Gujarat**.\n",
        "*   **Chhattisgarh, Nagaland, Manipur** have very few dishes."
      ]
    },
    {
      "cell_type": "markdown",
      "metadata": {
        "id": "EyiLLVRFmp87"
      },
      "source": [
        "## Inferences\n",
        "\n",
        "*   Most of the dishes are **Vegeterian**.\n",
        "*   Among flavours, **Spicy** is most flavoured.\n",
        "*   An enormous number of Indian dishes are servedd in as **Main Course**.\n",
        "*   **Punjab** followed by **Gujarat** has the highest number of Dishes.\n"
      ]
    }
  ]
}